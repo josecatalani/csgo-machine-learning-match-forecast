{
 "cells": [
  {
   "cell_type": "code",
   "execution_count": null,
   "metadata": {},
   "outputs": [],
   "source": [
    "pip install pandas matplotlib seaborn scikit-learn xgboost"
   ]
  },
  {
   "cell_type": "code",
   "execution_count": null,
   "metadata": {},
   "outputs": [],
   "source": [
    "import pandas as pd\n",
    "\n",
    "PROCESSED_FILES_FOLDER = '../data/processed'\n",
    "OUTPUT_PATH = f'{PROCESSED_FILES_FOLDER}/full_matches_train_data.csv'\n",
    "\n",
    "\n",
    "## Definindo as colunas que serão usadas para treinar o modelo\n",
    "team_map_results_columns_to_add  = [\"PlusMinus\", \"Adr\", \"Kast\", \"Rating\"]\n",
    "team_map_results_columns_to_drop  = []\n",
    "\n",
    "map_results = [f\"map{map_num}Team{team_num}Side{side}Player{player_num}{attribute}\"\n",
    "                for map_num in range(1, 6) \n",
    "                for team_num in range(1, 3) \n",
    "                for player_num in range(1, 6)\n",
    "                for attribute in team_map_results_columns_to_add\n",
    "                for side in [\"Both\", \"CounterTerrorist\", \"Terrorist\"]]\n",
    "\n",
    "kast_columns = [f\"map{map_num}Team{team_num}Side{side}Player{player_num}{attribute}\"\n",
    "                for map_num in range(1, 6) \n",
    "                for team_num in range(1, 3) \n",
    "                for player_num in range(1, 6)\n",
    "                for attribute in [\"Kast\"]\n",
    "                for side in [\"Both\", \"CounterTerrorist\", \"Terrorist\"]]\n",
    "\n",
    "adr_columns = [f\"map{map_num}Team{team_num}Side{side}Player{player_num}{attribute}\"\n",
    "                for map_num in range(1, 6) \n",
    "                for team_num in range(1, 3) \n",
    "                for player_num in range(1, 6)\n",
    "                for attribute in [\"Adr\"]\n",
    "                for side in [\"Both\", \"CounterTerrorist\", \"Terrorist\"]]\n",
    "\n",
    "### Listando as colunas que serão usadas das partidas, como: Jogadores, Mortes, Assistências etc.\n",
    "matches_train_data_columns = ['eventId', 'matchId', 'mapBestOf'] + map_results\n",
    "\n",
    "print(f\"Reading data from {PROCESSED_FILES_FOLDER}/matches_results.csv and {PROCESSED_FILES_FOLDER}/matches.csv\")\n",
    "matches_results_train_data = pd.read_csv('../data/raw/matches_results.csv')\n",
    "matches_train_data = pd.read_csv('../data/raw/matches.csv')\n",
    "\n",
    "matches_train_data = matches_train_data[matches_train_data_columns]\n",
    "\n",
    "matches_results_train_data_columns = ['eventId', 'matchId', 'TeamOneScore', 'TeamTwoScore', 'teamOneWon', 'teamTwoWon']\n",
    "matches_results_train_data = matches_results_train_data[[col for col in matches_results_train_data.columns if any(s in col for s in matches_results_train_data_columns)]]\n",
    "\n",
    "## Combinando os dados gerais das partidas com os detalhes das partidas\n",
    "full_matches_train_data = pd.merge(matches_results_train_data, matches_train_data, on='matchId', how='inner')\n",
    "\n",
    "## Data Wrangling\n",
    "full_matches_train_data.fillna(0, inplace=True)\n",
    "full_matches_train_data.replace(\"Not Available\", 0, inplace=True)\n",
    "full_matches_train_data.drop(['eventId_y', 'eventId_x', 'matchId'], axis=1, inplace=True)\n",
    "\n",
    "full_matches_train_data.drop(team_map_results_columns_to_drop, axis=1, inplace=True)\n",
    "full_matches_train_data.drop(['mapBestOf'], axis=1, inplace=True)\n",
    "\n",
    "for column in kast_columns:\n",
    "    full_matches_train_data[column] = full_matches_train_data[column].apply(lambda x: round(float(x.strip('%')) / 100, 2) if str(x) != '0' else 0)\n",
    "\n",
    "for column in adr_columns:\n",
    "    full_matches_train_data[column] = full_matches_train_data[column].apply(lambda x: round(float(x) / 100, 2))\n",
    "    \n",
    "full_matches_train_data.to_csv(OUTPUT_PATH, index=False)\n",
    "print(f\"Data saved to {OUTPUT_PATH}\")"
   ]
  }
 ],
 "metadata": {
  "kernelspec": {
   "display_name": "base",
   "language": "python",
   "name": "python3"
  },
  "language_info": {
   "codemirror_mode": {
    "name": "ipython",
    "version": 3
   },
   "file_extension": ".py",
   "mimetype": "text/x-python",
   "name": "python",
   "nbconvert_exporter": "python",
   "pygments_lexer": "ipython3",
   "version": "3.12.1"
  }
 },
 "nbformat": 4,
 "nbformat_minor": 2
}
