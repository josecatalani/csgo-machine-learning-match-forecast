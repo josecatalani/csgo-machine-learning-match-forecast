{
 "cells": [
  {
   "cell_type": "code",
   "execution_count": null,
   "metadata": {},
   "outputs": [],
   "source": [
    "pip install pandas matplotlib seaborn scikit-learn xgboost"
   ]
  },
  {
   "cell_type": "code",
   "execution_count": null,
   "metadata": {},
   "outputs": [],
   "source": [
    "import pandas as pd\n",
    "\n",
    "from sklearn.model_selection import train_test_split\n",
    "from sklearn.metrics import accuracy_score\n",
    "from sklearn.tree import DecisionTreeClassifier\n",
    "\n",
    "pd.set_option('future.no_silent_downcasting', True)\n",
    "\n",
    "full_matches_train_data = pd.read_csv('../data/processed/full_matches_train_data.csv')\n",
    "\n",
    "# Features (colunas que serão utilizadas para fazer a previsão)\n",
    "X = full_matches_train_data.drop(['teamOneWon', 'teamTwoWon'], axis=1)\n",
    "X = X.apply(pd.to_numeric, errors='coerce')\n",
    "\n",
    "# Target (coluna que será prevista)\n",
    "y = full_matches_train_data['teamOneWon']\n",
    "y = y.apply(pd.to_numeric, errors='coerce')\n",
    "\n",
    "print(f\"Número de amostras em X?{X.shape} e y:{y.shape}\")\n",
    "\n",
    "X_train, X_test, y_train, y_test = train_test_split(X, y, test_size=0.5)\n",
    "\n",
    "# Treinar o modelo com a base de treino\n",
    "model = DecisionTreeClassifier()\n",
    "model.fit(X_train, y_train)\n",
    "\n",
    "# Fazer previsões com o conjunto de teste\n",
    "y_pred = model.predict(X_test)\n",
    "\n",
    "# Calcular a acurácia\n",
    "accuracy = accuracy_score(y_test, y_pred)\n",
    "print(f'Acurácia do Modelo de Árvore de Decisão: {accuracy:.2f}')\n",
    "print(f\"Score do modelo de Árvore de Decisão: {model.score(X_test, y_test)}\")"
   ]
  }
 ],
 "metadata": {
  "kernelspec": {
   "display_name": "mba-scraper",
   "language": "python",
   "name": "python3"
  },
  "language_info": {
   "codemirror_mode": {
    "name": "ipython",
    "version": 3
   },
   "file_extension": ".py",
   "mimetype": "text/x-python",
   "name": "python",
   "nbconvert_exporter": "python",
   "pygments_lexer": "ipython3",
   "version": "3.12.1"
  }
 },
 "nbformat": 4,
 "nbformat_minor": 2
}
