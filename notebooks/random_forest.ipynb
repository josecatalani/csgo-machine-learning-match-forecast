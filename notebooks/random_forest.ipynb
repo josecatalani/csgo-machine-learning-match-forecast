{
 "cells": [
  {
   "cell_type": "code",
   "execution_count": 16,
   "metadata": {},
   "outputs": [
    {
     "name": "stdout",
     "output_type": "stream",
     "text": [
      "Acurácia do Modelo de Random Forest: 0.70\n",
      "Score do modelo de Random Forest: 0.7\n",
      "              precision    recall  f1-score   support\n",
      "\n",
      "       False       0.68      0.81      0.74        47\n",
      "        True       0.74      0.58      0.65        43\n",
      "\n",
      "    accuracy                           0.70        90\n",
      "   macro avg       0.71      0.69      0.69        90\n",
      "weighted avg       0.71      0.70      0.70        90\n",
      "\n"
     ]
    }
   ],
   "source": [
    "import pandas as pd\n",
    "\n",
    "from sklearn.model_selection import train_test_split\n",
    "from sklearn.ensemble import RandomForestClassifier\n",
    "from sklearn.metrics import accuracy_score, classification_report\n",
    "\n",
    "full_matches_train_data = pd.read_csv('../data/processed/full_matches_train_data.csv')\n",
    "\n",
    "# Features (colunas que serão utilizadas para fazer a previsão)\n",
    "X = full_matches_train_data.drop(['teamOneWon', 'teamTwoWon'], axis=1)\n",
    "X = X.apply(pd.to_numeric, errors='coerce')\n",
    "\n",
    "# Target (coluna que será prevista)\n",
    "y = full_matches_train_data['teamOneWon']\n",
    "y = y.apply(pd.to_numeric, errors='coerce')\n",
    "\n",
    "X_train, X_test, y_train, y_test = train_test_split(X, y, test_size=0.2)\n",
    "\n",
    "# Treinamento do modelo Random Forest\n",
    "model = RandomForestClassifier(n_estimators=100, random_state=42)\n",
    "model.fit(X_train, y_train)\n",
    "\n",
    "# Fazer previsões com o conjunto de teste\n",
    "y_pred = model.predict(X_test)\n",
    "\n",
    "# Calcular a acurácia\n",
    "accuracy = accuracy_score(y_test, y_pred)\n",
    "print(f'Acurácia do Modelo de Random Forest: {accuracy:.2f}')\n",
    "print(f\"Score do modelo de Random Forest: {model.score(X_test, y_test)}\")\n",
    "\n",
    "# Relatório de classificação\n",
    "print(classification_report(y_test, y_pred))"
   ]
  }
 ],
 "metadata": {
  "kernelspec": {
   "display_name": "mba-scraper",
   "language": "python",
   "name": "python3"
  },
  "language_info": {
   "codemirror_mode": {
    "name": "ipython",
    "version": 3
   },
   "file_extension": ".py",
   "mimetype": "text/x-python",
   "name": "python",
   "nbconvert_exporter": "python",
   "pygments_lexer": "ipython3",
   "version": "3.12.2"
  }
 },
 "nbformat": 4,
 "nbformat_minor": 2
}
