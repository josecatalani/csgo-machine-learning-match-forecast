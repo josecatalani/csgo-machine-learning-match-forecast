{
 "cells": [
  {
   "cell_type": "code",
   "execution_count": null,
   "metadata": {},
   "outputs": [],
   "source": [
    "pip install pandas matplotlib seaborn scikit-learn xgboost"
   ]
  },
  {
   "cell_type": "code",
   "execution_count": null,
   "metadata": {},
   "outputs": [],
   "source": [
    "import pandas as pd\n",
    "\n",
    "from io_helper import IOHelper\n",
    "\n",
    "from sklearn.model_selection import train_test_split\n",
    "from sklearn.linear_model import LogisticRegression\n",
    "from sklearn.metrics import accuracy_score\n",
    "\n",
    "## Merge Data\n",
    "map_results = [f\"map{map_num}Team{team_num}Side{side}Player{player_num}{attribute}\"\n",
    "                for map_num in range(1, 6) \n",
    "                for team_num in range(1, 3) \n",
    "                for player_num in range(1, 6)\n",
    "                for attribute in [\"Id\", \"Kills\", \"Deaths\", \"PlusMinus\", \"Adr\", \"Kast\", \"Rating\"]\n",
    "                for side in [\"Both\", \"CounterTerrorist\", \"Terrorist\"]]\n",
    "\n",
    "matches_train_data_columns = ['eventId', 'matchId', 'mapBestOf'] + map_results\n",
    "\n",
    "matches_train_data = pd.read_csv('../../data/raw/matches.csv')\n",
    "matches_train_data = matches_train_data[matches_train_data_columns]\n",
    "\n",
    "matches_results_train_data = pd.read_csv('../../data/raw/matches_results.csv')\n",
    "matches_results_train_data_columns = ['eventId', 'matchId', 'TeamOneScore', 'TeamTwoScore', 'teamOneWon', 'teamTwoWon']\n",
    "matches_results_train_data = matches_results_train_data[[col for col in matches_results_train_data.columns if any(s in col for s in matches_results_train_data_columns)]]\n",
    "\n",
    "full_matches_train_data = pd.merge(matches_results_train_data, matches_train_data, on='matchId', how='inner')\n",
    "\n",
    "## Data Wrangling\n",
    "full_matches_train_data.fillna(0, inplace=True)\n",
    "full_matches_train_data.replace(\"Not Available\", 0, inplace=True)\n",
    "full_matches_train_data.rename(columns={'eventId_x': 'eventId'}, inplace=True)\n",
    "full_matches_train_data.drop(['eventId_y'], axis=1, inplace=True)\n",
    "\n",
    "all_kast_columns = [f\"map{map_num}Team{team_num}Side{side}Player{player_num}{attribute}\"\n",
    "                for map_num in range(1, 6) \n",
    "                for team_num in range(1, 3) \n",
    "                for player_num in range(1, 6)\n",
    "                for attribute in [\"Kast\"]\n",
    "                for side in [\"Both\", \"CounterTerrorist\", \"Terrorist\"]]\n",
    "\n",
    "full_matches_train_data.drop(all_kast_columns, axis=1, inplace=True)\n",
    "\n",
    "head = full_matches_train_data[:5]\n",
    "IOHelper('head.csv').write(head)\n",
    "\n",
    "# Features\n",
    "X = full_matches_train_data.drop('teamOneWon', axis=1)\n",
    "IOHelper('x.csv').write(X)\n",
    "\n",
    "# Target\n",
    "y = full_matches_train_data['teamOneWon']\n",
    "IOHelper('y.csv').write(y)\n",
    "\n",
    "X_train, X_test, y_train, y_test = train_test_split(X, y, test_size=0.2, random_state=42)\n",
    "\n",
    "model = LogisticRegression(solver='lbfgs', max_iter=1000)\n",
    "\n",
    "# Treinar o modelo\n",
    "model.fit(X_train, y_train)\n",
    "\n",
    "# Prever no conjunto de teste\n",
    "y_pred = model.predict(X_test)\n",
    "\n",
    "# Avaliar o modelo\n",
    "accuracy = accuracy_score(y_test, y_pred)\n",
    "print(f'Acurácia do Modelo: {accuracy:.2f}')"
   ]
  },
  {
   "cell_type": "code",
   "execution_count": null,
   "metadata": {},
   "outputs": [],
   "source": []
  }
 ],
 "metadata": {
  "kernelspec": {
   "display_name": "mba-scraper",
   "language": "python",
   "name": "python3"
  },
  "language_info": {
   "codemirror_mode": {
    "name": "ipython",
    "version": 3
   },
   "file_extension": ".py",
   "mimetype": "text/x-python",
   "name": "python",
   "nbconvert_exporter": "python",
   "pygments_lexer": "ipython3",
   "version": "3.12.2"
  }
 },
 "nbformat": 4,
 "nbformat_minor": 2
}
